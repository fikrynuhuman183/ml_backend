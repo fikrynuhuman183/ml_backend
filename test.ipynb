{
 "cells": [
  {
   "cell_type": "code",
   "execution_count": 1,
   "metadata": {},
   "outputs": [],
   "source": [
    "import pandas as pd\n",
    "from sklearn.preprocessing import StandardScaler, LabelEncoder\n",
    "import xgboost as xgb\n",
    "import util\n",
    "import numpy as np"
   ]
  },
  {
   "cell_type": "code",
   "execution_count": 5,
   "metadata": {},
   "outputs": [],
   "source": [
    "data_df = pd.read_csv(\"C:\\\\Users\\\\dinur\\\\OneDrive\\\\Desktop\\\\ML-Backend\\\\assets\\\\all_07_07_23.csv\")"
   ]
  },
  {
   "cell_type": "code",
   "execution_count": 10,
   "metadata": {},
   "outputs": [],
   "source": [
    "l = data_df.loc[data_df['Image ID']=='C.10.12.5']"
   ]
  },
  {
   "cell_type": "code",
   "execution_count": 14,
   "metadata": {},
   "outputs": [
    {
     "data": {
      "text/plain": [
       "1"
      ]
     },
     "execution_count": 14,
     "metadata": {},
     "output_type": "execute_result"
    }
   ],
   "source": [
    "l.shape[0]"
   ]
  },
  {
   "cell_type": "code",
   "execution_count": 16,
   "metadata": {},
   "outputs": [],
   "source": [
    "data_df[\"Age\"] = data_df[\"Age\"].fillna(method='ffill')"
   ]
  },
  {
   "cell_type": "code",
   "execution_count": 2,
   "metadata": {},
   "outputs": [],
   "source": [
    "ent = util.findEntry('C.10.12.5')"
   ]
  },
  {
   "cell_type": "code",
   "execution_count": 3,
   "metadata": {},
   "outputs": [
    {
     "data": {
      "text/html": [
       "<div>\n",
       "<style scoped>\n",
       "    .dataframe tbody tr th:only-of-type {\n",
       "        vertical-align: middle;\n",
       "    }\n",
       "\n",
       "    .dataframe tbody tr th {\n",
       "        vertical-align: top;\n",
       "    }\n",
       "\n",
       "    .dataframe thead th {\n",
       "        text-align: right;\n",
       "    }\n",
       "</style>\n",
       "<table border=\"1\" class=\"dataframe\">\n",
       "  <thead>\n",
       "    <tr style=\"text-align: right;\">\n",
       "      <th></th>\n",
       "      <th>Image ID</th>\n",
       "      <th>New Image ID</th>\n",
       "      <th>Pt Registration no</th>\n",
       "      <th>Folder no</th>\n",
       "      <th>Age</th>\n",
       "      <th>Gender</th>\n",
       "      <th>Smoking</th>\n",
       "      <th>Chewing Betel Quid</th>\n",
       "      <th>Alcohol</th>\n",
       "      <th>Clinical diagnosis</th>\n",
       "      <th>...</th>\n",
       "      <th>Histopathological disgnosis</th>\n",
       "      <th>Medication history</th>\n",
       "      <th>History of presenting complaint</th>\n",
       "      <th>Duration of practising habits, if any</th>\n",
       "      <th>Medical history</th>\n",
       "      <th>Oral hygiene product used</th>\n",
       "      <th>Comments</th>\n",
       "      <th>Image Category (OCA/ OPMD/ Benign/ Healthy)</th>\n",
       "      <th>visible lesion present/ not</th>\n",
       "      <th>location of the mouth</th>\n",
       "    </tr>\n",
       "  </thead>\n",
       "  <tbody>\n",
       "    <tr>\n",
       "      <th>1154</th>\n",
       "      <td>C.10.12.5</td>\n",
       "      <td>C-10-12-5</td>\n",
       "      <td>NaN</td>\n",
       "      <td>10</td>\n",
       "      <td>26</td>\n",
       "      <td>Female</td>\n",
       "      <td>no</td>\n",
       "      <td>no</td>\n",
       "      <td>no</td>\n",
       "      <td>NaN</td>\n",
       "      <td>...</td>\n",
       "      <td>NaN</td>\n",
       "      <td>NaN</td>\n",
       "      <td>NaN</td>\n",
       "      <td>NaN</td>\n",
       "      <td>NAD</td>\n",
       "      <td>NaN</td>\n",
       "      <td>NaN</td>\n",
       "      <td>normal</td>\n",
       "      <td>NaN</td>\n",
       "      <td>NaN</td>\n",
       "    </tr>\n",
       "  </tbody>\n",
       "</table>\n",
       "<p>1 rows × 24 columns</p>\n",
       "</div>"
      ],
      "text/plain": [
       "       Image ID New Image ID Pt Registration no Folder no Age  Gender Smoking  \\\n",
       "1154  C.10.12.5    C-10-12-5                NaN        10  26  Female      no   \n",
       "\n",
       "     Chewing Betel Quid  Alcohol Clinical diagnosis   ...  \\\n",
       "1154                  no      no                 NaN  ...   \n",
       "\n",
       "     Histopathological disgnosis Medication history  \\\n",
       "1154                         NaN                NaN   \n",
       "\n",
       "     History of presenting complaint Duration of practising habits, if any  \\\n",
       "1154                             NaN                                   NaN   \n",
       "\n",
       "     Medical history Oral hygiene product used Comments  \\\n",
       "1154             NAD                       NaN      NaN   \n",
       "\n",
       "     Image Category (OCA/ OPMD/ Benign/ Healthy) visible lesion present/ not  \\\n",
       "1154                                      normal                         NaN   \n",
       "\n",
       "     location of the mouth  \n",
       "1154                   NaN  \n",
       "\n",
       "[1 rows x 24 columns]"
      ]
     },
     "execution_count": 3,
     "metadata": {},
     "output_type": "execute_result"
    }
   ],
   "source": [
    "ent"
   ]
  },
  {
   "cell_type": "code",
   "execution_count": 4,
   "metadata": {},
   "outputs": [
    {
     "data": {
      "text/plain": [
       "Index(['Image ID', 'New Image ID', 'Pt Registration no', 'Folder no', 'Age',\n",
       "       'Gender', 'Smoking', 'Chewing Betel Quid ', 'Alcohol',\n",
       "       'Clinical diagnosis ', 'Image captured by',\n",
       "       'Clinical presentation of the lesion', 'Chief complaint',\n",
       "       'Other investigations/tests', 'Histopathological disgnosis',\n",
       "       'Medication history', 'History of presenting complaint',\n",
       "       'Duration of practising habits, if any', 'Medical history',\n",
       "       'Oral hygiene product used', 'Comments',\n",
       "       'Image Category (OCA/ OPMD/ Benign/ Healthy)',\n",
       "       'visible lesion present/ not', 'location of the mouth'],\n",
       "      dtype='object')"
      ]
     },
     "execution_count": 4,
     "metadata": {},
     "output_type": "execute_result"
    }
   ],
   "source": [
    "ent.columns"
   ]
  },
  {
   "cell_type": "code",
   "execution_count": 3,
   "metadata": {},
   "outputs": [],
   "source": [
    "\n",
    "null_rem = util.nullRemoval(ent)\n",
    "cleaned = util.dataCleaning(null_rem)\n",
    "x = util.dataProcessing(cleaned)\n",
    "head = x.head(1)\n",
    "    \n",
    "\n",
    "values = head.values\n",
    "\n",
    "dmatrix = xgb.DMatrix(values)\n"
   ]
  },
  {
   "cell_type": "code",
   "execution_count": 13,
   "metadata": {},
   "outputs": [
    {
     "data": {
      "text/plain": [
       "array([[26, 0, True, False, False, False, True, False, False, False,\n",
       "        True, False, False, True, False, False]], dtype=object)"
      ]
     },
     "execution_count": 13,
     "metadata": {},
     "output_type": "execute_result"
    }
   ],
   "source": [
    "values"
   ]
  },
  {
   "cell_type": "code",
   "execution_count": 4,
   "metadata": {},
   "outputs": [
    {
     "data": {
      "text/html": [
       "<div>\n",
       "<style scoped>\n",
       "    .dataframe tbody tr th:only-of-type {\n",
       "        vertical-align: middle;\n",
       "    }\n",
       "\n",
       "    .dataframe tbody tr th {\n",
       "        vertical-align: top;\n",
       "    }\n",
       "\n",
       "    .dataframe thead th {\n",
       "        text-align: right;\n",
       "    }\n",
       "</style>\n",
       "<table border=\"1\" class=\"dataframe\">\n",
       "  <thead>\n",
       "    <tr style=\"text-align: right;\">\n",
       "      <th></th>\n",
       "      <th>Age</th>\n",
       "      <th>Gender</th>\n",
       "      <th>Smoking</th>\n",
       "      <th>Chewing Betel Quid</th>\n",
       "      <th>Alcohol</th>\n",
       "      <th>Clinical diagnosis</th>\n",
       "      <th>Image Category (OCA/ OPMD/ Benign/ Healthy)</th>\n",
       "    </tr>\n",
       "  </thead>\n",
       "  <tbody>\n",
       "    <tr>\n",
       "      <th>0</th>\n",
       "      <td>26</td>\n",
       "      <td>Female</td>\n",
       "      <td>no</td>\n",
       "      <td>no</td>\n",
       "      <td>no</td>\n",
       "      <td>0</td>\n",
       "      <td>normal</td>\n",
       "    </tr>\n",
       "    <tr>\n",
       "      <th>1</th>\n",
       "      <td>35</td>\n",
       "      <td>Male</td>\n",
       "      <td>yes</td>\n",
       "      <td>yes</td>\n",
       "      <td>yes</td>\n",
       "      <td>0</td>\n",
       "      <td>NaN</td>\n",
       "    </tr>\n",
       "    <tr>\n",
       "      <th>2</th>\n",
       "      <td>35</td>\n",
       "      <td>pns</td>\n",
       "      <td>ex</td>\n",
       "      <td>ex</td>\n",
       "      <td>occational</td>\n",
       "      <td>0</td>\n",
       "      <td>NaN</td>\n",
       "    </tr>\n",
       "    <tr>\n",
       "      <th>3</th>\n",
       "      <td>35</td>\n",
       "      <td>Female</td>\n",
       "      <td>no</td>\n",
       "      <td>no</td>\n",
       "      <td>no</td>\n",
       "      <td>0</td>\n",
       "      <td>NaN</td>\n",
       "    </tr>\n",
       "    <tr>\n",
       "      <th>4</th>\n",
       "      <td>35</td>\n",
       "      <td>Male</td>\n",
       "      <td>occational</td>\n",
       "      <td>occational</td>\n",
       "      <td>yes</td>\n",
       "      <td>0</td>\n",
       "      <td>NaN</td>\n",
       "    </tr>\n",
       "  </tbody>\n",
       "</table>\n",
       "</div>"
      ],
      "text/plain": [
       "   Age  Gender     Smoking Chewing Betel Quid      Alcohol  \\\n",
       "0   26  Female          no                  no          no   \n",
       "1   35    Male         yes                 yes         yes   \n",
       "2   35     pns          ex                  ex  occational   \n",
       "3   35  Female          no                  no          no   \n",
       "4   35    Male  occational          occational         yes   \n",
       "\n",
       "   Clinical diagnosis  Image Category (OCA/ OPMD/ Benign/ Healthy)  \n",
       "0                    0                                      normal  \n",
       "1                    0                                         NaN  \n",
       "2                    0                                         NaN  \n",
       "3                    0                                         NaN  \n",
       "4                    0                                         NaN  "
      ]
     },
     "execution_count": 4,
     "metadata": {},
     "output_type": "execute_result"
    }
   ],
   "source": [
    "cleaned.head()"
   ]
  },
  {
   "cell_type": "code",
   "execution_count": 5,
   "metadata": {},
   "outputs": [
    {
     "data": {
      "text/html": [
       "<div>\n",
       "<style scoped>\n",
       "    .dataframe tbody tr th:only-of-type {\n",
       "        vertical-align: middle;\n",
       "    }\n",
       "\n",
       "    .dataframe tbody tr th {\n",
       "        vertical-align: top;\n",
       "    }\n",
       "\n",
       "    .dataframe thead th {\n",
       "        text-align: right;\n",
       "    }\n",
       "</style>\n",
       "<table border=\"1\" class=\"dataframe\">\n",
       "  <thead>\n",
       "    <tr style=\"text-align: right;\">\n",
       "      <th></th>\n",
       "      <th>Age</th>\n",
       "      <th>Clinical diagnosis</th>\n",
       "      <th>Gender_Female</th>\n",
       "      <th>Gender_Male</th>\n",
       "      <th>Gender_pns</th>\n",
       "      <th>Smoking_ex</th>\n",
       "      <th>Smoking_no</th>\n",
       "      <th>Smoking_occational</th>\n",
       "      <th>Smoking_yes</th>\n",
       "      <th>Chewing Betel Quid _ex</th>\n",
       "      <th>Chewing Betel Quid _no</th>\n",
       "      <th>Chewing Betel Quid _occational</th>\n",
       "      <th>Chewing Betel Quid _yes</th>\n",
       "      <th>Alcohol_no</th>\n",
       "      <th>Alcohol_occational</th>\n",
       "      <th>Alcohol_yes</th>\n",
       "    </tr>\n",
       "  </thead>\n",
       "  <tbody>\n",
       "    <tr>\n",
       "      <th>0</th>\n",
       "      <td>26</td>\n",
       "      <td>0</td>\n",
       "      <td>True</td>\n",
       "      <td>False</td>\n",
       "      <td>False</td>\n",
       "      <td>False</td>\n",
       "      <td>True</td>\n",
       "      <td>False</td>\n",
       "      <td>False</td>\n",
       "      <td>False</td>\n",
       "      <td>True</td>\n",
       "      <td>False</td>\n",
       "      <td>False</td>\n",
       "      <td>True</td>\n",
       "      <td>False</td>\n",
       "      <td>False</td>\n",
       "    </tr>\n",
       "    <tr>\n",
       "      <th>1</th>\n",
       "      <td>35</td>\n",
       "      <td>0</td>\n",
       "      <td>False</td>\n",
       "      <td>True</td>\n",
       "      <td>False</td>\n",
       "      <td>False</td>\n",
       "      <td>False</td>\n",
       "      <td>False</td>\n",
       "      <td>True</td>\n",
       "      <td>False</td>\n",
       "      <td>False</td>\n",
       "      <td>False</td>\n",
       "      <td>True</td>\n",
       "      <td>False</td>\n",
       "      <td>False</td>\n",
       "      <td>True</td>\n",
       "    </tr>\n",
       "    <tr>\n",
       "      <th>2</th>\n",
       "      <td>35</td>\n",
       "      <td>0</td>\n",
       "      <td>False</td>\n",
       "      <td>False</td>\n",
       "      <td>True</td>\n",
       "      <td>True</td>\n",
       "      <td>False</td>\n",
       "      <td>False</td>\n",
       "      <td>False</td>\n",
       "      <td>True</td>\n",
       "      <td>False</td>\n",
       "      <td>False</td>\n",
       "      <td>False</td>\n",
       "      <td>False</td>\n",
       "      <td>True</td>\n",
       "      <td>False</td>\n",
       "    </tr>\n",
       "    <tr>\n",
       "      <th>3</th>\n",
       "      <td>35</td>\n",
       "      <td>0</td>\n",
       "      <td>True</td>\n",
       "      <td>False</td>\n",
       "      <td>False</td>\n",
       "      <td>False</td>\n",
       "      <td>True</td>\n",
       "      <td>False</td>\n",
       "      <td>False</td>\n",
       "      <td>False</td>\n",
       "      <td>True</td>\n",
       "      <td>False</td>\n",
       "      <td>False</td>\n",
       "      <td>True</td>\n",
       "      <td>False</td>\n",
       "      <td>False</td>\n",
       "    </tr>\n",
       "    <tr>\n",
       "      <th>4</th>\n",
       "      <td>35</td>\n",
       "      <td>0</td>\n",
       "      <td>False</td>\n",
       "      <td>True</td>\n",
       "      <td>False</td>\n",
       "      <td>False</td>\n",
       "      <td>False</td>\n",
       "      <td>True</td>\n",
       "      <td>False</td>\n",
       "      <td>False</td>\n",
       "      <td>False</td>\n",
       "      <td>True</td>\n",
       "      <td>False</td>\n",
       "      <td>False</td>\n",
       "      <td>False</td>\n",
       "      <td>True</td>\n",
       "    </tr>\n",
       "  </tbody>\n",
       "</table>\n",
       "</div>"
      ],
      "text/plain": [
       "   Age  Clinical diagnosis   Gender_Female  Gender_Male  Gender_pns  \\\n",
       "0   26                    0           True        False       False   \n",
       "1   35                    0          False         True       False   \n",
       "2   35                    0          False        False        True   \n",
       "3   35                    0           True        False       False   \n",
       "4   35                    0          False         True       False   \n",
       "\n",
       "   Smoking_ex  Smoking_no  Smoking_occational  Smoking_yes  \\\n",
       "0       False        True               False        False   \n",
       "1       False       False               False         True   \n",
       "2        True       False               False        False   \n",
       "3       False        True               False        False   \n",
       "4       False       False                True        False   \n",
       "\n",
       "   Chewing Betel Quid _ex  Chewing Betel Quid _no  \\\n",
       "0                   False                    True   \n",
       "1                   False                   False   \n",
       "2                    True                   False   \n",
       "3                   False                    True   \n",
       "4                   False                   False   \n",
       "\n",
       "   Chewing Betel Quid _occational  Chewing Betel Quid _yes  Alcohol_no  \\\n",
       "0                           False                    False        True   \n",
       "1                           False                     True       False   \n",
       "2                           False                    False       False   \n",
       "3                           False                    False        True   \n",
       "4                            True                    False       False   \n",
       "\n",
       "   Alcohol_occational  Alcohol_yes  \n",
       "0               False        False  \n",
       "1               False         True  \n",
       "2                True        False  \n",
       "3               False        False  \n",
       "4               False         True  "
      ]
     },
     "execution_count": 5,
     "metadata": {},
     "output_type": "execute_result"
    }
   ],
   "source": [
    "x.head()"
   ]
  },
  {
   "cell_type": "code",
   "execution_count": 6,
   "metadata": {},
   "outputs": [
    {
     "data": {
      "text/html": [
       "<div>\n",
       "<style scoped>\n",
       "    .dataframe tbody tr th:only-of-type {\n",
       "        vertical-align: middle;\n",
       "    }\n",
       "\n",
       "    .dataframe tbody tr th {\n",
       "        vertical-align: top;\n",
       "    }\n",
       "\n",
       "    .dataframe thead th {\n",
       "        text-align: right;\n",
       "    }\n",
       "</style>\n",
       "<table border=\"1\" class=\"dataframe\">\n",
       "  <thead>\n",
       "    <tr style=\"text-align: right;\">\n",
       "      <th></th>\n",
       "      <th>Age</th>\n",
       "      <th>Gender</th>\n",
       "      <th>Smoking</th>\n",
       "      <th>Chewing Betel Quid</th>\n",
       "      <th>Alcohol</th>\n",
       "      <th>Clinical diagnosis</th>\n",
       "      <th>Image Category (OCA/ OPMD/ Benign/ Healthy)</th>\n",
       "    </tr>\n",
       "  </thead>\n",
       "  <tbody>\n",
       "    <tr>\n",
       "      <th>0</th>\n",
       "      <td>26</td>\n",
       "      <td>Female</td>\n",
       "      <td>no</td>\n",
       "      <td>no</td>\n",
       "      <td>no</td>\n",
       "      <td>0</td>\n",
       "      <td>normal</td>\n",
       "    </tr>\n",
       "    <tr>\n",
       "      <th>1</th>\n",
       "      <td>35</td>\n",
       "      <td>Male</td>\n",
       "      <td>yes</td>\n",
       "      <td>yes</td>\n",
       "      <td>yes</td>\n",
       "      <td>0</td>\n",
       "      <td>NaN</td>\n",
       "    </tr>\n",
       "    <tr>\n",
       "      <th>2</th>\n",
       "      <td>35</td>\n",
       "      <td>pns</td>\n",
       "      <td>ex</td>\n",
       "      <td>ex</td>\n",
       "      <td>occational</td>\n",
       "      <td>0</td>\n",
       "      <td>NaN</td>\n",
       "    </tr>\n",
       "    <tr>\n",
       "      <th>3</th>\n",
       "      <td>35</td>\n",
       "      <td>Female</td>\n",
       "      <td>no</td>\n",
       "      <td>no</td>\n",
       "      <td>no</td>\n",
       "      <td>0</td>\n",
       "      <td>NaN</td>\n",
       "    </tr>\n",
       "    <tr>\n",
       "      <th>4</th>\n",
       "      <td>35</td>\n",
       "      <td>Male</td>\n",
       "      <td>occational</td>\n",
       "      <td>occational</td>\n",
       "      <td>yes</td>\n",
       "      <td>0</td>\n",
       "      <td>NaN</td>\n",
       "    </tr>\n",
       "  </tbody>\n",
       "</table>\n",
       "</div>"
      ],
      "text/plain": [
       "   Age  Gender     Smoking Chewing Betel Quid      Alcohol  \\\n",
       "0   26  Female          no                  no          no   \n",
       "1   35    Male         yes                 yes         yes   \n",
       "2   35     pns          ex                  ex  occational   \n",
       "3   35  Female          no                  no          no   \n",
       "4   35    Male  occational          occational         yes   \n",
       "\n",
       "   Clinical diagnosis  Image Category (OCA/ OPMD/ Benign/ Healthy)  \n",
       "0                    0                                      normal  \n",
       "1                    0                                         NaN  \n",
       "2                    0                                         NaN  \n",
       "3                    0                                         NaN  \n",
       "4                    0                                         NaN  "
      ]
     },
     "execution_count": 6,
     "metadata": {},
     "output_type": "execute_result"
    }
   ],
   "source": [
    "cleaned.head()"
   ]
  },
  {
   "cell_type": "code",
   "execution_count": 7,
   "metadata": {},
   "outputs": [
    {
     "data": {
      "text/html": [
       "<div>\n",
       "<style scoped>\n",
       "    .dataframe tbody tr th:only-of-type {\n",
       "        vertical-align: middle;\n",
       "    }\n",
       "\n",
       "    .dataframe tbody tr th {\n",
       "        vertical-align: top;\n",
       "    }\n",
       "\n",
       "    .dataframe thead th {\n",
       "        text-align: right;\n",
       "    }\n",
       "</style>\n",
       "<table border=\"1\" class=\"dataframe\">\n",
       "  <thead>\n",
       "    <tr style=\"text-align: right;\">\n",
       "      <th></th>\n",
       "      <th>Age</th>\n",
       "      <th>Clinical diagnosis</th>\n",
       "      <th>Gender_Female</th>\n",
       "      <th>Gender_Male</th>\n",
       "      <th>Gender_pns</th>\n",
       "      <th>Smoking_ex</th>\n",
       "      <th>Smoking_no</th>\n",
       "      <th>Smoking_occational</th>\n",
       "      <th>Smoking_yes</th>\n",
       "      <th>Chewing Betel Quid _ex</th>\n",
       "      <th>Chewing Betel Quid _no</th>\n",
       "      <th>Chewing Betel Quid _occational</th>\n",
       "      <th>Chewing Betel Quid _yes</th>\n",
       "      <th>Alcohol_no</th>\n",
       "      <th>Alcohol_occational</th>\n",
       "      <th>Alcohol_yes</th>\n",
       "    </tr>\n",
       "  </thead>\n",
       "  <tbody>\n",
       "    <tr>\n",
       "      <th>0</th>\n",
       "      <td>26</td>\n",
       "      <td>0</td>\n",
       "      <td>True</td>\n",
       "      <td>False</td>\n",
       "      <td>False</td>\n",
       "      <td>False</td>\n",
       "      <td>True</td>\n",
       "      <td>False</td>\n",
       "      <td>False</td>\n",
       "      <td>False</td>\n",
       "      <td>True</td>\n",
       "      <td>False</td>\n",
       "      <td>False</td>\n",
       "      <td>True</td>\n",
       "      <td>False</td>\n",
       "      <td>False</td>\n",
       "    </tr>\n",
       "    <tr>\n",
       "      <th>1</th>\n",
       "      <td>35</td>\n",
       "      <td>0</td>\n",
       "      <td>False</td>\n",
       "      <td>True</td>\n",
       "      <td>False</td>\n",
       "      <td>False</td>\n",
       "      <td>False</td>\n",
       "      <td>False</td>\n",
       "      <td>True</td>\n",
       "      <td>False</td>\n",
       "      <td>False</td>\n",
       "      <td>False</td>\n",
       "      <td>True</td>\n",
       "      <td>False</td>\n",
       "      <td>False</td>\n",
       "      <td>True</td>\n",
       "    </tr>\n",
       "    <tr>\n",
       "      <th>2</th>\n",
       "      <td>35</td>\n",
       "      <td>0</td>\n",
       "      <td>False</td>\n",
       "      <td>False</td>\n",
       "      <td>True</td>\n",
       "      <td>True</td>\n",
       "      <td>False</td>\n",
       "      <td>False</td>\n",
       "      <td>False</td>\n",
       "      <td>True</td>\n",
       "      <td>False</td>\n",
       "      <td>False</td>\n",
       "      <td>False</td>\n",
       "      <td>False</td>\n",
       "      <td>True</td>\n",
       "      <td>False</td>\n",
       "    </tr>\n",
       "    <tr>\n",
       "      <th>3</th>\n",
       "      <td>35</td>\n",
       "      <td>0</td>\n",
       "      <td>True</td>\n",
       "      <td>False</td>\n",
       "      <td>False</td>\n",
       "      <td>False</td>\n",
       "      <td>True</td>\n",
       "      <td>False</td>\n",
       "      <td>False</td>\n",
       "      <td>False</td>\n",
       "      <td>True</td>\n",
       "      <td>False</td>\n",
       "      <td>False</td>\n",
       "      <td>True</td>\n",
       "      <td>False</td>\n",
       "      <td>False</td>\n",
       "    </tr>\n",
       "    <tr>\n",
       "      <th>4</th>\n",
       "      <td>35</td>\n",
       "      <td>0</td>\n",
       "      <td>False</td>\n",
       "      <td>True</td>\n",
       "      <td>False</td>\n",
       "      <td>False</td>\n",
       "      <td>False</td>\n",
       "      <td>True</td>\n",
       "      <td>False</td>\n",
       "      <td>False</td>\n",
       "      <td>False</td>\n",
       "      <td>True</td>\n",
       "      <td>False</td>\n",
       "      <td>False</td>\n",
       "      <td>False</td>\n",
       "      <td>True</td>\n",
       "    </tr>\n",
       "  </tbody>\n",
       "</table>\n",
       "</div>"
      ],
      "text/plain": [
       "   Age  Clinical diagnosis   Gender_Female  Gender_Male  Gender_pns  \\\n",
       "0   26                    0           True        False       False   \n",
       "1   35                    0          False         True       False   \n",
       "2   35                    0          False        False        True   \n",
       "3   35                    0           True        False       False   \n",
       "4   35                    0          False         True       False   \n",
       "\n",
       "   Smoking_ex  Smoking_no  Smoking_occational  Smoking_yes  \\\n",
       "0       False        True               False        False   \n",
       "1       False       False               False         True   \n",
       "2        True       False               False        False   \n",
       "3       False        True               False        False   \n",
       "4       False       False                True        False   \n",
       "\n",
       "   Chewing Betel Quid _ex  Chewing Betel Quid _no  \\\n",
       "0                   False                    True   \n",
       "1                   False                   False   \n",
       "2                    True                   False   \n",
       "3                   False                    True   \n",
       "4                   False                   False   \n",
       "\n",
       "   Chewing Betel Quid _occational  Chewing Betel Quid _yes  Alcohol_no  \\\n",
       "0                           False                    False        True   \n",
       "1                           False                     True       False   \n",
       "2                           False                    False       False   \n",
       "3                           False                    False        True   \n",
       "4                            True                    False       False   \n",
       "\n",
       "   Alcohol_occational  Alcohol_yes  \n",
       "0               False        False  \n",
       "1               False         True  \n",
       "2                True        False  \n",
       "3               False        False  \n",
       "4               False         True  "
      ]
     },
     "execution_count": 7,
     "metadata": {},
     "output_type": "execute_result"
    }
   ],
   "source": [
    "x.head()"
   ]
  },
  {
   "cell_type": "code",
   "execution_count": 7,
   "metadata": {},
   "outputs": [
    {
     "data": {
      "text/plain": [
       "Age                               int32\n",
       "Clinical diagnosis                int32\n",
       "Gender_Female                      bool\n",
       "Gender_Male                        bool\n",
       "Gender_pns                         bool\n",
       "Smoking_ex                         bool\n",
       "Smoking_no                         bool\n",
       "Smoking_occational                 bool\n",
       "Smoking_yes                        bool\n",
       "Chewing Betel Quid _ex             bool\n",
       "Chewing Betel Quid _no             bool\n",
       "Chewing Betel Quid _occational     bool\n",
       "Chewing Betel Quid _yes            bool\n",
       "Alcohol_no                         bool\n",
       "Alcohol_occational                 bool\n",
       "Alcohol_yes                        bool\n",
       "dtype: object"
      ]
     },
     "execution_count": 7,
     "metadata": {},
     "output_type": "execute_result"
    }
   ],
   "source": [
    "x.dtypes"
   ]
  },
  {
   "cell_type": "code",
   "execution_count": 10,
   "metadata": {},
   "outputs": [
    {
     "data": {
      "text/html": [
       "<div>\n",
       "<style scoped>\n",
       "    .dataframe tbody tr th:only-of-type {\n",
       "        vertical-align: middle;\n",
       "    }\n",
       "\n",
       "    .dataframe tbody tr th {\n",
       "        vertical-align: top;\n",
       "    }\n",
       "\n",
       "    .dataframe thead th {\n",
       "        text-align: right;\n",
       "    }\n",
       "</style>\n",
       "<table border=\"1\" class=\"dataframe\">\n",
       "  <thead>\n",
       "    <tr style=\"text-align: right;\">\n",
       "      <th></th>\n",
       "      <th>Age</th>\n",
       "      <th>Clinical diagnosis</th>\n",
       "      <th>Gender_Female</th>\n",
       "      <th>Gender_Male</th>\n",
       "      <th>Gender_pns</th>\n",
       "      <th>Smoking_ex</th>\n",
       "      <th>Smoking_no</th>\n",
       "      <th>Smoking_occational</th>\n",
       "      <th>Smoking_yes</th>\n",
       "      <th>Chewing Betel Quid _ex</th>\n",
       "      <th>Chewing Betel Quid _no</th>\n",
       "      <th>Chewing Betel Quid _occational</th>\n",
       "      <th>Chewing Betel Quid _yes</th>\n",
       "      <th>Alcohol_no</th>\n",
       "      <th>Alcohol_occational</th>\n",
       "      <th>Alcohol_yes</th>\n",
       "    </tr>\n",
       "  </thead>\n",
       "  <tbody>\n",
       "    <tr>\n",
       "      <th>0</th>\n",
       "      <td>26</td>\n",
       "      <td>0</td>\n",
       "      <td>True</td>\n",
       "      <td>False</td>\n",
       "      <td>False</td>\n",
       "      <td>False</td>\n",
       "      <td>True</td>\n",
       "      <td>False</td>\n",
       "      <td>False</td>\n",
       "      <td>False</td>\n",
       "      <td>True</td>\n",
       "      <td>False</td>\n",
       "      <td>False</td>\n",
       "      <td>True</td>\n",
       "      <td>False</td>\n",
       "      <td>False</td>\n",
       "    </tr>\n",
       "  </tbody>\n",
       "</table>\n",
       "</div>"
      ],
      "text/plain": [
       "   Age  Clinical diagnosis   Gender_Female  Gender_Male  Gender_pns  \\\n",
       "0   26                    0           True        False       False   \n",
       "\n",
       "   Smoking_ex  Smoking_no  Smoking_occational  Smoking_yes  \\\n",
       "0       False        True               False        False   \n",
       "\n",
       "   Chewing Betel Quid _ex  Chewing Betel Quid _no  \\\n",
       "0                   False                    True   \n",
       "\n",
       "   Chewing Betel Quid _occational  Chewing Betel Quid _yes  Alcohol_no  \\\n",
       "0                           False                    False        True   \n",
       "\n",
       "   Alcohol_occational  Alcohol_yes  \n",
       "0               False        False  "
      ]
     },
     "execution_count": 10,
     "metadata": {},
     "output_type": "execute_result"
    }
   ],
   "source": [
    "x.head(1)"
   ]
  },
  {
   "cell_type": "code",
   "execution_count": 3,
   "metadata": {},
   "outputs": [],
   "source": [
    "pred = util.metaPredict(ent)"
   ]
  },
  {
   "cell_type": "code",
   "execution_count": 14,
   "metadata": {},
   "outputs": [],
   "source": [
    "probabilities = np.exp(pred) / np.exp(pred).sum()\n",
    "oca, opmd, benign, healthy = probabilities.tolist()[0]"
   ]
  },
  {
   "cell_type": "code",
   "execution_count": 11,
   "metadata": {},
   "outputs": [
    {
     "data": {
      "text/plain": [
       "array([[2.2572964e-05, 9.1330126e-05, 8.1083889e-04, 9.9907523e-01]],\n",
       "      dtype=float32)"
      ]
     },
     "execution_count": 11,
     "metadata": {},
     "output_type": "execute_result"
    }
   ],
   "source": [
    "(probabilities)"
   ]
  },
  {
   "cell_type": "code",
   "execution_count": 5,
   "metadata": {},
   "outputs": [
    {
     "data": {
      "text/plain": [
       "array([[-4.634688 , -3.23696  , -1.0533713,  6.0631447]], dtype=float32)"
      ]
     },
     "execution_count": 5,
     "metadata": {},
     "output_type": "execute_result"
    }
   ],
   "source": [
    "pred"
   ]
  },
  {
   "cell_type": "code",
   "execution_count": 17,
   "metadata": {},
   "outputs": [],
   "source": [
    "meta_prob_3 = np.array([oca+opmd, benign, healthy], dtype=float)"
   ]
  },
  {
   "cell_type": "code",
   "execution_count": 18,
   "metadata": {},
   "outputs": [
    {
     "data": {
      "text/plain": [
       "array([1.13903090e-04, 8.10838887e-04, 9.99075234e-01])"
      ]
     },
     "execution_count": 18,
     "metadata": {},
     "output_type": "execute_result"
    }
   ],
   "source": [
    "meta_prob_3"
   ]
  },
  {
   "cell_type": "code",
   "execution_count": null,
   "metadata": {},
   "outputs": [],
   "source": [
    "weighted_avg_probs = (model1_probs * weights[0]) + (model2_probs * weights[1])"
   ]
  },
  {
   "cell_type": "code",
   "execution_count": 19,
   "metadata": {},
   "outputs": [
    {
     "data": {
      "text/plain": [
       "array([ 2,  2, 15])"
      ]
     },
     "execution_count": 19,
     "metadata": {},
     "output_type": "execute_result"
    }
   ],
   "source": [
    "arr = np.array([1,2,3])\n",
    "arr1 = np.array([2, 1, 5])\n",
    "arr*arr1"
   ]
  },
  {
   "cell_type": "code",
   "execution_count": 20,
   "metadata": {},
   "outputs": [
    {
     "data": {
      "text/plain": [
       "1"
      ]
     },
     "execution_count": 20,
     "metadata": {},
     "output_type": "execute_result"
    }
   ],
   "source": [
    "arr[0]"
   ]
  },
  {
   "cell_type": "code",
   "execution_count": null,
   "metadata": {},
   "outputs": [],
   "source": []
  }
 ],
 "metadata": {
  "kernelspec": {
   "display_name": "Python 3",
   "language": "python",
   "name": "python3"
  },
  "language_info": {
   "codemirror_mode": {
    "name": "ipython",
    "version": 3
   },
   "file_extension": ".py",
   "mimetype": "text/x-python",
   "name": "python",
   "nbconvert_exporter": "python",
   "pygments_lexer": "ipython3",
   "version": "3.11.3"
  },
  "orig_nbformat": 4
 },
 "nbformat": 4,
 "nbformat_minor": 2
}
